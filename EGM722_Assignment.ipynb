{
 "cells": [
  {
   "cell_type": "markdown",
   "id": "6466874b-3a59-4ba7-ac18-98ba67809f92",
   "metadata": {},
   "source": [
    "# Consultancy report analysis\n",
    "## Motorbike scrambling track\n",
    "By Gillian Kennedy (B00805416)\n",
    "\n",
    "## Introduction\n",
    "Enter text about problem?\n",
    "\n",
    "## Aim \n",
    "Analyse the potential impact of the motorbike scrambling track in the Binevenagh area.\n",
    "\n",
    "## Objectives\n",
    "1. Analyse potential impact on local residents\n",
    "2. Analyse potential impact on environment\n",
    "3. Analyse potential impact on tourism\n",
    "\n",
    "## Data Provided\n",
    "- NI_roads\n",
    "- NI_rivers\n",
    "- NI_outline\n",
    "- ASSI\n",
    "- AONB\n",
    "- Landcover\n",
    "- Gazeteer\n",
    "- Settlements\n",
    "- Census population\n",
    "- Children 0-7\n",
    "- Pointer data\n",
    "- new buildings\n",
    "\n",
    "## Preparing data for analysis\n",
    "\n",
    "First we need to import the appropriate packages for the analysis."
   ]
  },
  {
   "cell_type": "code",
   "execution_count": null,
   "id": "dc6844dc-7257-48e5-bd25-8c251b021839",
   "metadata": {},
   "outputs": [],
   "source": [
    "#use figures interactively\n",
    "%matplotlib widget\n",
    "\n",
    "#importing packages\n",
    "import os\n",
    "import geopandas as gpd\n",
    "import pandas as pd\n",
    "import matplotlib.pyplot as plt\n",
    "import matplotlib.patches as mpatches\n",
    "import matplotlib.lines as mlines\n",
    "import folium\n",
    "from shapely.geometry import Point, LineString, Polygon\n",
    "import cartopy.crs as ccrs\n",
    "from cartopy.feature import ShapelyFeature\n",
    "\n",
    "plt.ion() #make plotting interactive"
   ]
  },
  {
   "cell_type": "code",
   "execution_count": null,
   "id": "6b89cdea-5556-4dce-83da-942ef6679a27",
   "metadata": {},
   "outputs": [],
   "source": [
    "# Loading all shapefile data\n",
    "outline = gpd.read_file(os.path.abspath('data_files/NI_outline.shp'))\n",
    "roads = gpd.read_file(os.path.abspath('data_files/NI_roads.shp'))\n",
    "rivers = gpd.read_file(os.path.abspath('data_files/NI_rivers.shp'))\n",
    "settlements = gpd.read_file(os.path.abspath('data_files/settlements_poly.shp'))\n",
    "gazeteer = gpd.read_file(os.path.abspath('data_files/Gazeteer.shp'))\n",
    "assi = gpd.read_file(os.path.abspath('data_files/ASSI.shp'))\n",
    "aonb = gpd.read_file(os.path.abspath('data_files/AONB.shp'))\n",
    "census = gpd.read_file(os.path.abspath('data_files/census_areas.shp'))\n",
    "landcover = gpd.read_file(os.path.abspath('data_files/NW_coast_Land_Cover.shp'))"
   ]
  },
  {
   "cell_type": "code",
   "execution_count": null,
   "id": "07fafb68-ca02-4509-a37c-cd67d79ef136",
   "metadata": {},
   "outputs": [],
   "source": [
    "#create a Universal Transverse Mercator reference system to transform the data\n",
    "ni_utm = ccrs.UTM(29) "
   ]
  },
  {
   "cell_type": "code",
   "execution_count": null,
   "id": "2aa7a490-13f1-4ed4-90d0-3bc350e5e63d",
   "metadata": {},
   "outputs": [],
   "source": [
    "# Ensuring all data is on the same projection\n",
    "outline = outline.to_crs(ni_utm)\n",
    "roads = roads.to_crs(ni_utm)\n",
    "rivers = rivers.to_crs(ni_utm)\n",
    "settlements = settlements.to_crs(ni_utm)\n",
    "gazeteer = gazeteer.to_crs(ni_utm)\n",
    "assi = assi.to_crs(ni_utm)\n",
    "aonb = aonb.to_crs(ni_utm)\n",
    "census = census.to_crs(ni_utm)\n",
    "landcover = landcover.to_crs(ni_utm)"
   ]
  },
  {
   "cell_type": "code",
   "execution_count": null,
   "id": "ddd0dbed-309c-4686-919a-04dae8ab2e85",
   "metadata": {},
   "outputs": [],
   "source": [
    "#Creating a map figure\n",
    "fig = plt.figure(figsize=(8, 8))\n",
    "ax = plt.axes(projection=ni_utm)"
   ]
  },
  {
   "cell_type": "code",
   "execution_count": null,
   "id": "362cc2b3-b0ee-4917-a2d9-e73c57b9cd63",
   "metadata": {},
   "outputs": [],
   "source": [
    "# Adding layers to the map figure\n",
    "outline_feature = ShapelyFeature(outline['geometry'], # first argument is the geometry\n",
    "                                 ni_utm, # second argument is the CRS\n",
    "                                 edgecolor='k', # set the edgecolor to black\n",
    "                                 facecolor='w', # set the facecolor to white\n",
    "                                 zorder=1) # first layer to be drawn on map\n",
    "ax.add_feature(outline_feature) # add the feature to the map figure\n",
    "\n",
    "roads_feat = ShapelyFeature(roads['geometry'], # first argument is the geometry\n",
    "                            ni_utm, # second argument is the CRS\n",
    "                            edgecolor='firebrick', # set the edgecolor to be firebrick\n",
    "                            facecolor='firebrick', # set the facecolor to be firebrick\n",
    "                            linewidth=0.2, # set the linewidth to be 0.2 pt\n",
    "                            zorder=2) # second layer to be drawn on map\n",
    "ax.add_feature(roads_feat) # add the feature to the map figure\n",
    "\n",
    "\n",
    "settlements_feat = ShapelyFeature(settlements['geometry'], # first argument is the geometry\n",
    "                            ni_utm, # second argument is the CRS\n",
    "                            edgecolor='gray', # set the edgecolor to be gray\n",
    "                            facecolor='gray', # set the facecolor to be gray\n",
    "                            linewidth=1, # set the linewidth to be 0.2 pt\n",
    "                            zorder=3) # third layer to be drawn on map\n",
    "ax.add_feature(settlements_feat) # add the feature to the map figure\n",
    "\n",
    "gazeteer_feat = ax.scatter(gazeteer.geometry.x, gazeteer.geometry.y, # first argument is the geometry\n",
    "                            transform=ccrs.UTM(zone=29, southern_hemisphere=False), # second argument is the CRS\n",
    "                            color='yellow', # set color to yellow\n",
    "                            s= 10, # set size to 10\n",
    "                            zorder=4) # fourth layer to be drawn on map\n",
    "\n",
    "xmin, ymin, xmax, ymax = outline.total_bounds # using the boundary of the outline shapefile feature, zoom the map to area of interest\n",
    "ax.set_extent([xmin-5000, xmax+5000, ymin-5000, ymax+5000], crs=ni_utm) # because total_bounds gives output as xmin, ymin, xmax, ymax,\n",
    "# but set_extent takes xmin, xmax, ymin, ymax, we re-order the coordinates here.\n",
    "\n",
    "# Show map figure\n",
    "fig\n"
   ]
  },
  {
   "cell_type": "code",
   "execution_count": null,
   "id": "936cb9f3-276a-4ef7-8436-ac6f1fe76291",
   "metadata": {},
   "outputs": [],
   "source": [
    "# Clear map figure\n",
    "ax.clear()\n",
    "\n",
    "# Adding layers to map figure\n",
    "outline_feature = ShapelyFeature(outline['geometry'], # first argument is the geometry\n",
    "                                 ni_utm, # second argument is the CRS\n",
    "                                 edgecolor='k', # set the edgecolor to be black\n",
    "                                 facecolor='w', # set the facecolor to be white\n",
    "                                 zorder=1) # first layer to be drawn on map\n",
    "ax.add_feature(outline_feature) # add the feature to the map figure\n",
    "\n",
    "assi_feat = ShapelyFeature(assi['geometry'], # first argument is the geometry\n",
    "                            ni_utm, # second argument is the CRS\n",
    "                            edgecolor='pink', # set the edgecolor to be pink\n",
    "                            facecolor='pink', # set the facecolor to be pink\n",
    "                            linewidth=1, # set the linewidth to be 1 pt\n",
    "                            zorder=2) # second layer to be drawn on map\n",
    "ax.add_feature(assi_feat) # add the feature to the map figure\n",
    "\n",
    "aonb_feat = ShapelyFeature(aonb['geometry'], # first argument is the geometry\n",
    "                            ni_utm, # second argument is the CRS\n",
    "                            edgecolor='purple', # set the edgecolor to be purple\n",
    "                            facecolor='purple', # set the facecolor to be purple\n",
    "                            linewidth=1, # set the linewidth to be 1 pt\n",
    "                            zorder=3) # third layer to be drawn on map\n",
    "ax.add_feature(aonb_feat) # add the feature to the map figure\n",
    "\n",
    "rivers_feat = ShapelyFeature(rivers['geometry'], # first argument is the geometry\n",
    "                            ni_utm, # second argument is the CRS\n",
    "                            edgecolor='blue', # set the edgecolor to be blue\n",
    "                            facecolor='blue', # set the facecolor to be blue\n",
    "                            linewidth=0.2, # set the linewidth to be 0.2 pt\n",
    "                            zorder=4) # fourth layer to be drawn on map\n",
    "ax.add_feature(rivers_feat) # add the feature to the map figure\n",
    "\n",
    "landcover_feat = ShapelyFeature(landcover['geometry'], # first argument is the geometry\n",
    "                            ni_utm, # second argument is the CRS\n",
    "                            edgecolor='green', # set the edgecolor to be green\n",
    "                            facecolor='green', # set the facecolor to be green\n",
    "                            linewidth=1, # set the linewidth to be 1 pt\n",
    "                            zorder=5) # fith layer to be drawn on map\n",
    "ax.add_feature(landcover_feat) # add the feature to the map figure\n",
    "\n",
    "census_feat = ShapelyFeature(census['geometry'], # first argument is the geometry\n",
    "                            ni_utm, # second argument is the CRS\n",
    "                            edgecolor='orange', # set the edgecolor to be orange\n",
    "                            facecolor='orange', # set the facecolor to be orange\n",
    "                            linewidth=1, # set the linewidth to be 1 pt\n",
    "                            zorder=6) # sixth layer to be drawn on map\n",
    "ax.add_feature(census_feat) # add the feature to the map figure\n",
    "\n",
    "\n",
    "xmin, ymin, xmax, ymax = outline.total_bounds # using the boundary of the outline shapefile feature, zoom the map to area of interest\n",
    "ax.set_extent([xmin-5000, xmax+5000, ymin-5000, ymax+5000], crs=ni_utm) # because total_bounds gives output as xmin, ymin, xmax, ymax,\n",
    "# but set_extent takes xmin, xmax, ymin, ymax, we re-order the coordinates here.\n",
    "\n",
    "# Show map figure\n",
    "fig "
   ]
  },
  {
   "cell_type": "markdown",
   "id": "d8070b82-2219-4a16-a3cc-7f43cc7d3c30",
   "metadata": {},
   "source": [
    "As can be seen from the two maps, census areas and landcover are they only layers which do not cover the extent of Northern Ireland as they have already been reduced to cover the area of Binevenagh where the motorbike track will be located. Since we are focusing on the area surrounding the track we should clip all the layers to the extent of the study area. "
   ]
  },
  {
   "cell_type": "code",
   "execution_count": null,
   "id": "3a6787ee-7ced-4b98-bd8c-b8dd7fff9880",
   "metadata": {},
   "outputs": [],
   "source": [
    "# Creating a polygon to represent the study area\n",
    "study_area = Polygon([(-7.030049, 55.041508), (-7.026122, 55.203187), (-6.633537, 55.19942), (-6.639045, 55.037764)])\n",
    "\n",
    "#creating geodataframe for study area\n",
    "study_area_gdf = gpd.GeoDataFrame({'geometry': [study_area]}, crs=4326).to_crs(ni_utm)\n",
    "\n",
    "# Clearing map figure\n",
    "ax.clear()\n",
    "\n",
    "#Adding NI outline and study area to map to show where study is in Northern Ireland\n",
    "outline_feature = ShapelyFeature(outline['geometry'], # first argument is the geometry\n",
    "                                 ni_utm, # second argument is the CRS\n",
    "                                 edgecolor='k', # set the edgecolor to be black\n",
    "                                 facecolor='w', # set the facecolor to be white\n",
    "                                 zorder=1) # first layer to be drawn on map\n",
    "ax.add_feature(outline_feature) # add the feature to the map figure\n",
    "\n",
    "study_area_gdf.plot(ax=ax, color='none', edgecolor='forestgreen')\n",
    "\n",
    "xmin, ymin, xmax, ymax = outline.total_bounds # using the boundary of the outline shapefile feature, zoom the map to area of interest\n",
    "ax.set_extent([xmin-5000, xmax+5000, ymin-5000, ymax+5000], crs=ni_utm) # because total_bounds gives output as xmin, ymin, xmax, ymax,\n",
    "# but set_extent takes xmin, xmax, ymin, ymax, we re-order the coordinates here.\n",
    "\n",
    "# Show map figure\n",
    "fig"
   ]
  },
  {
   "cell_type": "code",
   "execution_count": null,
   "id": "6cc50ab3-695f-4ce7-9256-93c9a5171900",
   "metadata": {},
   "outputs": [],
   "source": [
    "# Clipping layers to study area extent\n",
    "roads_st = roads.clip(study_area_gdf)\n",
    "rivers_st = rivers.clip(study_area_gdf)\n",
    "settlements_st = settlements.clip(study_area_gdf)\n",
    "gazeteer_st = gazeteer.clip(study_area_gdf)\n",
    "assi_st = assi.clip(study_area_gdf)\n",
    "aonb_st = aonb.clip(study_area_gdf)"
   ]
  },
  {
   "cell_type": "code",
   "execution_count": null,
   "id": "60216c0c-c1ed-4a71-907b-513db5b10290",
   "metadata": {},
   "outputs": [],
   "source": [
    "# Clearing map figure\n",
    "ax.clear()\n",
    "\n",
    "#Adding layers to the map figure\n",
    "outline.plot(ax=ax, color='none', edgecolor='black')\n",
    "\n",
    "# Plot one the clipped layers\n",
    "roads_st.plot(ax=ax, color='gray', edgecolor='black')\n",
    "\n",
    "xmin, ymin, xmax, ymax = study_area_gdf.total_bounds # using the boundary of the shapefile features, zoom the map to our area of interest\n",
    "ax.set_extent([xmin-1000, xmax+1000, ymin-1000, ymax+1000], crs=ni_utm) # because total_bounds gives output as xmin, ymin, xmax, ymax,\n",
    "# but set_extent takes xmin, xmax, ymin, ymax, we re-order the coordinates here.\n",
    "\n",
    "# Show map figure\n",
    "fig"
   ]
  },
  {
   "cell_type": "code",
   "execution_count": null,
   "id": "10c4c58e-b844-4461-9fbd-8ee24243970d",
   "metadata": {},
   "outputs": [],
   "source": [
    "#Creating a point to represent the track centre\n",
    "track_centre = Point(-6.833074, 55.143815)\n",
    "\n",
    "#Creating a geodataframe for track centre point\n",
    "track_gdf = gpd.GeoDataFrame({'geometry': [track_centre]}, crs=4326).to_crs(ni_utm)\n",
    "\n",
    "# Plotting track centre\n",
    "track_gdf.plot(ax=ax, color='red', markersize=50)\n",
    "\n",
    "# Show the map\n",
    "fig\n"
   ]
  },
  {
   "cell_type": "markdown",
   "id": "f672dc5d-7e0e-44c5-bdea-bb66d706d0ea",
   "metadata": {},
   "source": [
    "### Preparing Building data"
   ]
  },
  {
   "cell_type": "markdown",
   "id": "ea1fe665-eaeb-4310-91ba-24d328b4aaa6",
   "metadata": {},
   "source": [
    "In the cell below the pointer data for the Binevenagh area will be added to the notebook and points will be created from this data."
   ]
  },
  {
   "cell_type": "code",
   "execution_count": null,
   "id": "66921450-2d5d-4476-8b22-ec3273d1e7f9",
   "metadata": {},
   "outputs": [],
   "source": [
    "df = pd.read_csv('data_files/Binevenagh_Pointer.csv') # read csv data\n",
    "\n",
    "# create a new geodataframe\n",
    "buildings = gpd.GeoDataFrame(df,\n",
    "                             geometry=gpd.points_from_xy(df['X_COR'], df['Y_COR']), \n",
    "                             crs=29903).to_crs(ni_utm)\n",
    "\n",
    "\n",
    "buildings.head()"
   ]
  },
  {
   "cell_type": "code",
   "execution_count": null,
   "id": "56c03e2b-252a-47ce-bb2b-00e2aaba549e",
   "metadata": {},
   "outputs": [],
   "source": [
    "# Plotting track centre\n",
    "buildings.plot(ax=ax, color='darkblue', markersize=2)\n",
    "\n",
    "# Show the map\n",
    "fig"
   ]
  },
  {
   "cell_type": "markdown",
   "id": "e807fc87-3fac-4912-8789-49eb3ff805e9",
   "metadata": {},
   "source": [
    "The Binevenagh Pointer data is out of date and new buildings have been constructed since the pointer data was collected. A local resident carried out a survey providing GPS points of the most recently built house in the area surrounding the motorbike track."
   ]
  },
  {
   "cell_type": "code",
   "execution_count": null,
   "id": "552ba39d-cd3e-4e15-a84c-5bccb6645892",
   "metadata": {},
   "outputs": [],
   "source": [
    "print(f\"number of buildings: {len(buildings)}\")"
   ]
  },
  {
   "cell_type": "code",
   "execution_count": null,
   "id": "7011c1b5-37a0-463e-a778-1c9c76c36690",
   "metadata": {},
   "outputs": [],
   "source": [
    "df2 = pd.read_csv('data_files/new_buildings.csv') # read csv data\n",
    "\n",
    "# create a new geodataframe\n",
    "new_buildings = gpd.GeoDataFrame(df2,\n",
    "                             geometry=gpd.points_from_xy(df2['easting'], df2['northing']), \n",
    "                             crs=29903).to_crs(ni_utm)\n",
    "\n",
    "\n",
    "new_buildings.head()"
   ]
  },
  {
   "cell_type": "code",
   "execution_count": null,
   "id": "ccf399b9-e67f-4686-b4fd-e653af71b63f",
   "metadata": {},
   "outputs": [],
   "source": [
    "print(f\"number of new buildings: {len(new_buildings)}\")"
   ]
  },
  {
   "cell_type": "code",
   "execution_count": null,
   "id": "25b5c8fb-ee7d-4534-9717-5cc1d43d25e6",
   "metadata": {},
   "outputs": [],
   "source": [
    "buildings_updated = gpd.GeoDataFrame(pd.concat([buildings, new_buildings], ignore_index=True))\n",
    "\n",
    "print(f\"number of new buildings: {len(buildings_updated)}\")"
   ]
  },
  {
   "cell_type": "code",
   "execution_count": null,
   "id": "f9744bd3-5a82-4d50-a20e-de684f52e54a",
   "metadata": {},
   "outputs": [],
   "source": [
    "buildings_updated.head()"
   ]
  },
  {
   "cell_type": "markdown",
   "id": "95666c56-4a9c-4a2e-8fee-5d23948e779c",
   "metadata": {},
   "source": [
    "### Preparing landcover data"
   ]
  },
  {
   "cell_type": "code",
   "execution_count": null,
   "id": "308afb1e-b9b6-4593-b6de-ec53fb2c3869",
   "metadata": {},
   "outputs": [],
   "source": [
    "landcover.head()"
   ]
  },
  {
   "cell_type": "code",
   "execution_count": null,
   "id": "6ebb00d3-b143-40a1-a38c-6cbeb73c513d",
   "metadata": {},
   "outputs": [],
   "source": [
    "# define landcover types in a list\n",
    "type = ['broad-leaved woodland', 'coniferous woodland', 'arable horticulture', 'improved grassland', 'neutral grass', 'calcareous grass', 'acid grass', 'bracken', 'dwarf shrub heath', \n",
    "        'open dwarf shrub heath', 'bog', 'water (inland)', 'inland bare ground', 'suburban/rural developed', 'continuous urban', 'supra-littoral sediment', 'littoral rock',\n",
    "        'littoral sediment', 'saltmarsh', 'sea/estuary']\n",
    "\n",
    "# BHSUB number that corresponds to the type of landcover\n",
    "values = [1.1, 2.1, 4.2, 5.1, 6.1, 7.1, 8.1, 9.1, 10.1, 10.2, 12.1, 13.1, 16.1, 17.1, 17.2, 19.1, 20.1, 21.1, 21.2, 22.1]\n",
    "\n",
    "# Category each landcover type falls into\n",
    "category = ['woodland', 'woodland', 'agricultural (intensive)', 'agricultural (intensive)', 'agricultural (non-intensive)', 'agricultural (non-intensive)', 'agricultural (non-intensive)',\n",
    "            'semi-natural', 'semi-natural', 'semi-natural', 'semi-natural', 'water', 'non-vegetated', 'built environment', 'built environment', 'non-vegetated', 'non-vegetated', 'non-vegetated',\n",
    "            'semi-natural', 'water']\n",
    "\n",
    "landcover_type = dict(zip(values, type)) # create a dict of landcover value/type pairs\n",
    "landcover_category = dict(zip(values, category)) # create a dict of landcover value/category pairs"
   ]
  },
  {
   "cell_type": "code",
   "execution_count": null,
   "id": "e33a88de-f558-4351-ba6c-6a8af8ca04d5",
   "metadata": {},
   "outputs": [],
   "source": [
    "# Add landcover type and landcover category as columns to landcover shapefile\n",
    "landcover[\"Landcover_Type\"] = landcover[\"BHSUB\"].map(landcover_type)\n",
    "landcover[\"Landcover_Category\"] = landcover[\"BHSUB\"].map(landcover_category)\n",
    "\n",
    "# show attribute table of landcover shapefile\n",
    "landcover.head()"
   ]
  },
  {
   "cell_type": "code",
   "execution_count": null,
   "id": "cca30d09-a520-4839-a15c-6069bed0d66d",
   "metadata": {},
   "outputs": [],
   "source": [
    "# Clearing map figure\n",
    "ax.clear()\n",
    "\n",
    "#Adding layers to the map figure\n",
    "outline_feature = ShapelyFeature(outline['geometry'], # first argument is the geometry\n",
    "                                 ni_utm, # second argument is the CRS\n",
    "                                 edgecolor='k', # set the edgecolor to be black\n",
    "                                 facecolor='w', # set the facecolor to be white\n",
    "                                 zorder=1) # first layer to be drawn on map\n",
    "ax.add_feature(outline_feature) # add the feature to the map figure\n",
    "\n",
    "landcover_colors = ['lawngreen', 'palegreen', 'gray', 'orangered', 'saddlebrown', 'aqua', 'darkgreen']\n",
    "\n",
    "landcover_eco_category = list(landcover.Landcover_Category.unique())\n",
    "landcover_eco_category = [str(x) for x in landcover_eco_category]  # Convert everything to string!!!!!!!!!!!!!!!!!!!!!!!!!!!!!!!!!!!!!!!!!!!!!!!!!!!!!!\n",
    "landcover_eco_category.sort()\n",
    "\n",
    "for ii, name in enumerate(landcover_eco_category):\n",
    "    landcover_feat = ShapelyFeature(landcover.loc[landcover[\"Landcover_Category\"] == name, \"geometry\"],\n",
    "                                    ni_utm,\n",
    "                                    edgecolor='k',\n",
    "                                    facecolor=landcover_colors[ii],\n",
    "                                    linewidth=1,\n",
    "                                    alpha=0.25)\n",
    "    ax.add_feature(landcover_feat)\n",
    "\n",
    "xmin, ymin, xmax, ymax = study_area_gdf.total_bounds # using the boundary of the shapefile features, zoom the map to our area of interest\n",
    "ax.set_extent([xmin-1000, xmax+1000, ymin-1000, ymax+1000], crs=ni_utm) # because total_bounds gives output as xmin, ymin, xmax, ymax,\n",
    "# but set_extent takes xmin, xmax, ymin, ymax, we re-order the coordinates here.\n",
    "\n",
    "\n",
    "# Show map figure\n",
    "fig"
   ]
  },
  {
   "cell_type": "markdown",
   "id": "b7bc6d2d-95c3-4cac-bd98-3b7c1988abfe",
   "metadata": {},
   "source": [
    "### Preparing census data"
   ]
  },
  {
   "cell_type": "markdown",
   "id": "35d02498-04e1-4dd1-a635-ab27afcf53b4",
   "metadata": {},
   "source": [
    "For the analysis section of the code we will want to know if the area surrounding the motorbike track has a high proportion of young children. As the noises from the motorbike track my affect the children at bedtime. So we need to join the children data to the census data."
   ]
  },
  {
   "cell_type": "code",
   "execution_count": null,
   "id": "b11c1f03-4a61-4a52-a174-5ebe16212751",
   "metadata": {},
   "outputs": [],
   "source": [
    "children = pd.read_csv('data_files/children_0-7.csv') # read csv data\n",
    "\n",
    "children.head()"
   ]
  },
  {
   "cell_type": "code",
   "execution_count": null,
   "id": "7f6aef2f-6393-4da5-a14c-47d23945e3c8",
   "metadata": {},
   "outputs": [],
   "source": [
    "census.head()"
   ]
  },
  {
   "cell_type": "code",
   "execution_count": null,
   "id": "cf17f18b-8acc-40f7-b7ef-c0b7263c3d2d",
   "metadata": {},
   "outputs": [],
   "source": [
    "census_updated = census.merge(children, left_on='OA_CODE', right_on='OA')\n",
    "\n",
    "census_updated.head()"
   ]
  },
  {
   "cell_type": "markdown",
   "id": "7160de89-17ba-418a-b20c-26bb41fb03f0",
   "metadata": {},
   "source": [
    "## Analysing Data\n",
    "\n",
    "There are many buildings surrounding the motorbike track and so many people that could potentially be affected by the noise produced by the track. Before assessing the impact of the track could potntially have on local residents it might be of interest to see how far away the owner of the track lives. The owner of the track lives in a village called Articlave."
   ]
  },
  {
   "cell_type": "code",
   "execution_count": null,
   "id": "c622a02c-f2b9-4a72-8016-f4a88e802e9b",
   "metadata": {},
   "outputs": [],
   "source": [
    "gazeteer.head()"
   ]
  },
  {
   "cell_type": "code",
   "execution_count": null,
   "id": "6e391bdf-2fd8-4c05-ad27-a71137374e4d",
   "metadata": {},
   "outputs": [],
   "source": [
    "# Selecting the village Articlave\n",
    "articlave = gazeteer.query(\"NAME == 'ARTICLAVE'\").geometry.iloc[0]\n",
    "\n",
    "# calculating the distance of Articlave village to the track\n",
    "owner_distance = track_gdf.distance(articlave)\n",
    "\n",
    "distance_value = owner_distance.iloc[0]\n",
    "\n",
    "print(f'Distance of track to owners house: {distance_value:.2f} meters')"
   ]
  },
  {
   "cell_type": "markdown",
   "id": "3c56cc64-0358-4400-a1fa-47842f6a6f16",
   "metadata": {},
   "source": [
    "There has been official complaints made about the motorbike track from local residents. The majority of complaints come from people living on the Altikeeragh Road, Ballyhackett Road, and Burrenmore Road. We can use these complaints to estimate how far the noise of the track travels in the area."
   ]
  },
  {
   "cell_type": "code",
   "execution_count": null,
   "id": "618f7cdb-fb97-4082-aa6f-6e3128731017",
   "metadata": {},
   "outputs": [],
   "source": [
    "# Calculating the distance of all buildings in the study area from the track\n",
    "buildings[\"distance_to_track\"] = buildings.geometry.distance(track_gdf.geometry.iloc[0])\n",
    "\n",
    "# Selecting the roads where complaint were made from\n",
    "complaints = buildings.query(\"ROAD in ['ALTIKEERAGH ROAD', 'BALLYHACKETT ROAD', 'BURRENMORE ROAD']\")\n",
    "\n",
    "print(complaints[[\"ROAD\", \"distance_to_track\"]])"
   ]
  },
  {
   "cell_type": "markdown",
   "id": "c34e196e-08b0-41c4-80f5-3e1808666c34",
   "metadata": {},
   "source": [
    "As we can see from the results above most complaints are within 1.2km. However there have also been complaints made by holiday-makers staying at a caravan park at 56 Ballywoodock Road who say noise can be heard from the track in calm weather."
   ]
  },
  {
   "cell_type": "code",
   "execution_count": null,
   "id": "8cd7315a-65ca-4022-9486-7a3fa91be1d6",
   "metadata": {},
   "outputs": [],
   "source": [
    "# Selecting the caravan park the complaint was made from\n",
    "complaints2 = buildings.query(\"ROAD in ['BALLYWOODOCK ROAD'] and BUILDING == 56\")\n",
    "\n",
    "print(complaints2[[\"BUILDING\", \"ROAD\", \"distance_to_track\"]])"
   ]
  },
  {
   "cell_type": "markdown",
   "id": "667c5793-9590-4a92-b42a-a47e097f2781",
   "metadata": {},
   "source": [
    "From calculating the distance from the track to the caravn park we now know that the noise from the track can be heard over 2km away.\n",
    "Another factor to help ascertain the impact of the track on local residents is to calculate the population density of the surrounding are and the percentage of children in the surrounding area."
   ]
  },
  {
   "cell_type": "code",
   "execution_count": null,
   "id": "43d6c77f-614e-48f6-be25-cf906d565f28",
   "metadata": {},
   "outputs": [],
   "source": [
    "census_updated = census_updated.rename(columns={\"CHILD_0-7\": \"CHILD_0_7\"})\n",
    "\n",
    "census_updated.head()"
   ]
  },
  {
   "cell_type": "code",
   "execution_count": null,
   "id": "dd603666-a867-450e-aacf-c343819aec1f",
   "metadata": {},
   "outputs": [],
   "source": [
    "\n",
    "def population_calculations(census_updated, POPN, CHILD_0_7):\n",
    "    \"\"\"\n",
    "    Calculates area, population density, and percentage of children.\n",
    "\n",
    "    Parameters:\n",
    "    census_updated: The polygon dataset (already loaded & projected).\n",
    "    POPN (str): Column name containing total population values from the census.\n",
    "    CHILD_0_7 (str): Column name containing number of children aged 0-7.\n",
    "\n",
    "    Returns:\n",
    "    census_updated: Updated census_updated with new columns 'area', 'population_density', and 'children_percentage'.\n",
    "    \"\"\"\n",
    "    # Calculate polygon area\n",
    "    census_updated[\"area\"] = census_updated.geometry.area\n",
    "\n",
    "    # Calculate population density\n",
    "    census_updated[\"pop_density\"] = (census_updated[POPN] / census_updated[\"area\"]) * 1_000_000\n",
    "\n",
    "    # Calculate percentage of children\n",
    "    census_updated[\"pc_child\"] = (census_updated[CHILD_0_7] / census_updated[POPN]) * 100\n",
    "\n",
    "    return census_updated\n",
    "\n",
    "# Example usage:\n",
    "census_updated = population_calculations(census_updated, \"POPN\", \"CHILD_0_7\")\n",
    "\n",
    "# Print the first few rows\n",
    "print(census_updated[[\"POPN\", \"CHILD_0_7\", \"area\", \"pop_density\", \"pc_child\"]])"
   ]
  },
  {
   "cell_type": "code",
   "execution_count": null,
   "id": "5b7f92b2-4bbf-4010-82df-38f360fc2bf3",
   "metadata": {},
   "outputs": [],
   "source": [
    "# Calculate area for landcover shapefile\n",
    "landcover[\"area\"] = landcover.geometry.area\n",
    "\n",
    "landcover.head()"
   ]
  },
  {
   "cell_type": "code",
   "execution_count": null,
   "id": "4b13636a-2e83-4b21-a256-4aadd6103bdd",
   "metadata": {},
   "outputs": [],
   "source": [
    "# Creating a 2km buffer around the track centre\n",
    "buffer_2km = track_gdf.buffer(2000)\n",
    "\n",
    "# Plot buffer onto map figure\n",
    "buffer_2km.plot(ax=ax, facecolor='none', edgecolor='k')\n",
    "\n",
    "# Show map figure\n",
    "fig"
   ]
  },
  {
   "cell_type": "markdown",
   "id": "efb44772-63e7-4c9b-84a3-9bd7d52348b9",
   "metadata": {},
   "source": [
    "## Results\n",
    "\n",
    "### Impact on local residents\n"
   ]
  },
  {
   "cell_type": "code",
   "execution_count": null,
   "id": "b615d22c-06cb-400a-802a-896d9c30d55c",
   "metadata": {},
   "outputs": [],
   "source": [
    "# Plot folium map\n",
    "m = buffer_2km.explore(fill=False,\n",
    "                       color='black')\n",
    "                       \n",
    "\n",
    "census_updated.explore('pop_density', \n",
    "                       m=m,\n",
    "                       cmap='RdYlBu',\n",
    "                       legend_kwds={'caption': 'Population density'})\n",
    "\n",
    "track_args = {\n",
    "    'm' : m,\n",
    "    'marker_type': 'marker',\n",
    "    'popup': False,\n",
    "    'legend': False,\n",
    "    'marker_kwds': {'icon': folium.Icon(color='purple', icon='motorcycle', prefix='fa')}\n",
    "}\n",
    "\n",
    "track_gdf.explore(**track_args)\n",
    "\n",
    "buildings_args = {\n",
    "    'm' : m,\n",
    "    'marker_type': 'circle_marker',\n",
    "    'popup': True,\n",
    "    'legend': False,\n",
    "    'marker_kwds': { 'radius': 2, 'color': 'gray', 'fill': True, 'fill_color': 'gray', 'fillOpacity': 1.0}\n",
    "}\n",
    "    \n",
    "\n",
    "buildings_updated.explore(**buildings_args)\n",
    "\n",
    "\n",
    "# Show folium map\n",
    "m"
   ]
  },
  {
   "cell_type": "code",
   "execution_count": null,
   "id": "13d58c73-8583-4721-ad33-ba19bca91749",
   "metadata": {},
   "outputs": [],
   "source": [
    "# Plot folium map\n",
    "m2 = buffer_2km.explore(fill=False,\n",
    "                       color='black')\n",
    "                       \n",
    "\n",
    "census_updated.explore('pc_child', \n",
    "                       m=m2,\n",
    "                       cmap='RdYlBu',\n",
    "                       legend_kwds={'caption': 'Percentage of children'})\n",
    "\n",
    "track_args = {\n",
    "    'm' : m2,\n",
    "    'marker_type': 'marker',\n",
    "    'popup': False,\n",
    "    'legend': False,\n",
    "    'marker_kwds': {'icon': folium.Icon(color='purple', icon='motorcycle', prefix='fa')}\n",
    "}\n",
    "\n",
    "track_gdf.explore(**track_args)\n",
    "\n",
    "buildings_args = {\n",
    "    'm' : m2,\n",
    "    'marker_type': 'circle_marker',\n",
    "    'popup': True,\n",
    "    'legend': False,\n",
    "    'marker_kwds': { 'radius': 2, 'color': 'gray', 'fill': True, 'fill_color': 'gray', 'fillOpacity': 1.0}\n",
    "}\n",
    "    \n",
    "\n",
    "buildings_updated.explore(**buildings_args)\n",
    "\n",
    "\n",
    "# Show folium map\n",
    "m2"
   ]
  },
  {
   "cell_type": "markdown",
   "id": "f20e9546-6d2b-4803-9155-983265b218a6",
   "metadata": {},
   "source": [
    "### Impact on the environment"
   ]
  },
  {
   "cell_type": "code",
   "execution_count": null,
   "id": "60c4bc0a-d279-4b2b-9c30-8a3fb8aff9d5",
   "metadata": {},
   "outputs": [],
   "source": [
    "# Plot folium map\n",
    "m2 = buffer_2km.explore(fill=False,\n",
    "                       color='black')\n",
    "                       \n",
    "\n",
    "landcover.explore('category', \n",
    "                       m=m2,\n",
    "                       legend_kwds={'caption': 'Percentage of children'})\n",
    "\n",
    "track_args = {\n",
    "    'm' : m2,\n",
    "    'marker_type': 'marker',\n",
    "    'popup': False,\n",
    "    'legend': False,\n",
    "    'marker_kwds': {'icon': folium.Icon(color='purple', icon='motorcycle', prefix='fa')}\n",
    "}\n",
    "\n",
    "track_gdf.explore(**track_args)\n",
    "\n",
    "\n",
    "\n",
    "\n",
    "# Show folium map\n",
    "m3"
   ]
  }
 ],
 "metadata": {
  "kernelspec": {
   "display_name": "Python 3 (ipykernel)",
   "language": "python",
   "name": "python3"
  },
  "language_info": {
   "codemirror_mode": {
    "name": "ipython",
    "version": 3
   },
   "file_extension": ".py",
   "mimetype": "text/x-python",
   "name": "python",
   "nbconvert_exporter": "python",
   "pygments_lexer": "ipython3",
   "version": "3.9.22"
  }
 },
 "nbformat": 4,
 "nbformat_minor": 5
}
