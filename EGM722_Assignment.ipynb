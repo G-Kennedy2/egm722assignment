{
 "cells": [
  {
   "cell_type": "markdown",
   "id": "6466874b-3a59-4ba7-ac18-98ba67809f92",
   "metadata": {},
   "source": [
    "# Consultancy report analysis\n",
    "## Motorbike scrambling track\n",
    "By Gillian Kennedy (B00805416)\n",
    "\n",
    "## Introduction\n",
    "Enter text about problem?\n",
    "\n",
    "## Aim \n",
    "Analyse the potential impact of the motorbike scrambling track in the Binevenagh area.\n",
    "\n",
    "## Objectives\n",
    "1. Analyse potential impact on local residents\n",
    "2. Analyse potential impact on environment\n",
    "3. Analyse potential impact on tourism\n",
    "\n",
    "## Data Provided\n",
    "- NI_roads\n",
    "- NI_rivers\n",
    "- NI_outline\n",
    "- ASSI\n",
    "- AONB\n",
    "- Landcover\n",
    "- Gazeteer\n",
    "- Settlements\n",
    "- Census population\n",
    "- Children 0-7\n",
    "- Pointer data\n",
    "- new buildings\n",
    "\n",
    "## Preparing data for analysis\n",
    "\n",
    "First we need to import the appropriate packages for the analysis."
   ]
  },
  {
   "cell_type": "code",
   "execution_count": null,
   "id": "dc6844dc-7257-48e5-bd25-8c251b021839",
   "metadata": {},
   "outputs": [],
   "source": [
    "#use figures interactively\n",
    "%matplotlib widget\n",
    "\n",
    "import os\n",
    "import geopandas as gpd\n",
    "import pandas as pd\n",
    "import matplotlib.pyplot as plt\n",
    "import matplotlib.patches as mpatches\n",
    "import matplotlib.lines as mlines\n",
    "import folium\n",
    "from shapely.geometry import Point, LineString, Polygon\n",
    "import cartopy.crs as ccrs\n",
    "from cartopy.feature import ShapelyFeature\n",
    "\n",
    "plt.ion() #make plotting interactive"
   ]
  },
  {
   "cell_type": "markdown",
   "id": "b29399bc-758b-44c4-a5c5-27ad3336fdbf",
   "metadata": {},
   "source": [
    "### loading the data"
   ]
  },
  {
   "cell_type": "code",
   "execution_count": null,
   "id": "6b89cdea-5556-4dce-83da-942ef6679a27",
   "metadata": {},
   "outputs": [],
   "source": [
    "outline = gpd.read_file(os.path.abspath('data_files/NI_outline.shp'))\n",
    "roads = gpd.read_file(os.path.abspath('data_files/NI_roads.shp'))\n",
    "settlements = gpd.read_file(os.path.abspath('data_files/settlements_poly.shp'))\n",
    "gazeteer = gpd.read_file(os.path.abspath('data_files/Gazeteer.shp'))"
   ]
  },
  {
   "cell_type": "markdown",
   "id": "ac19da07-e667-4a99-b45f-f3477fe278d3",
   "metadata": {},
   "source": [
    "Creating the map figure."
   ]
  },
  {
   "cell_type": "code",
   "execution_count": null,
   "id": "07fafb68-ca02-4509-a37c-cd67d79ef136",
   "metadata": {},
   "outputs": [],
   "source": [
    "ni_utm = ccrs.UTM(29) #create a Universal Transverse Mercator reference system to transform the data"
   ]
  },
  {
   "cell_type": "code",
   "execution_count": null,
   "id": "2aa7a490-13f1-4ed4-90d0-3bc350e5e63d",
   "metadata": {},
   "outputs": [],
   "source": [
    "outline = outline.to_crs(ni_utm)\n",
    "roads = roads.to_crs(ni_utm)\n",
    "settlements = settlements.to_crs(ni_utm)\n",
    "gazeteer = gazeteer.to_crs(ni_utm)"
   ]
  },
  {
   "cell_type": "code",
   "execution_count": null,
   "id": "b65ca096-a3d0-4585-9f68-9185a3e75c95",
   "metadata": {},
   "outputs": [],
   "source": [
    "fig = plt.figure(figsize=(8, 8))\n",
    "ax = plt.axes(projection=ni_utm)"
   ]
  },
  {
   "cell_type": "markdown",
   "id": "6acc99fc-3988-412d-88f1-11663df83dd3",
   "metadata": {},
   "source": [
    "Adding outline to the map"
   ]
  },
  {
   "cell_type": "code",
   "execution_count": null,
   "id": "53557b8a-6b74-43a1-b7ae-d2662081a29d",
   "metadata": {},
   "outputs": [],
   "source": [
    "# first, we just add the outline of Northern Ireland using cartopy's ShapelyFeature\n",
    "outline_feature = ShapelyFeature(outline['geometry'],\n",
    "                                 ni_utm, edgecolor='k', \n",
    "                                 facecolor='w',\n",
    "                                 zorder=1)\n",
    "ax.add_feature(outline_feature) # add the features we've created to the map."
   ]
  },
  {
   "cell_type": "markdown",
   "id": "af8349f6-2a0a-4fef-8155-22e91c10b6fa",
   "metadata": {},
   "source": [
    "Setting the extent to Northern Ireland"
   ]
  },
  {
   "cell_type": "code",
   "execution_count": null,
   "id": "fa58fdcd-568b-4b94-9aa7-df0950cadb93",
   "metadata": {},
   "outputs": [],
   "source": [
    "xmin, ymin, xmax, ymax = outline.total_bounds # using the boundary of the shapefile features, zoom the map to our area of interest\n",
    "ax.set_extent([xmin-5000, xmax+5000, ymin-5000, ymax+5000], crs=ni_utm) # because total_bounds gives output as xmin, ymin, xmax, ymax,\n",
    "# but set_extent takes xmin, xmax, ymin, ymax, we re-order the coordinates here.\n",
    "\n",
    "fig ## re-draw the figure so you don't have to scroll back up"
   ]
  },
  {
   "cell_type": "markdown",
   "id": "c59c8e31-dcce-4a82-b2eb-7b1f5ce83f15",
   "metadata": {},
   "source": [
    "num_road_types = len(roads.road_class.unigue())\n",
    "print(f'number of unique features: {num_road_types}')"
   ]
  },
  {
   "cell_type": "code",
   "execution_count": null,
   "id": "362cc2b3-b0ee-4917-a2d9-e73c57b9cd63",
   "metadata": {},
   "outputs": [],
   "source": [
    "roads_feat = ShapelyFeature(roads['geometry'], # first argument is the geometry\n",
    "                            ni_utm, # second argument is the CRS\n",
    "                            edgecolor='firebrick', # set the edgecolor to be firebrick\n",
    "                            facecolor='firebrick', # set the facecolor to be firebrick\n",
    "                            linewidth=0.2, # set the linewidth to be 0.2 pt\n",
    "                            zorder=2) \n",
    "ax.add_feature(roads_feat) # add the collection of features to the map\n",
    "\n",
    "settlements_feat = ShapelyFeature(settlements['geometry'], # first argument is the geometry\n",
    "                            ni_utm, # second argument is the CRS\n",
    "                            edgecolor='gray', # set the edgecolor to be gray\n",
    "                            facecolor='gray', # set the facecolor to be gray\n",
    "                            linewidth=1,\n",
    "                            zorder=3) # set the linewidth to be 0.2 pt\n",
    "ax.add_feature(settlements_feat) # add the collection of features to the map\n",
    "\n",
    "gazeteer_feat = ax.scatter(gazeteer.geometry.x, gazeteer.geometry.y, # first argument is the geometry\n",
    "                            transform=ccrs.UTM(zone=29, southern_hemisphere=False), # second argument is the CRS\n",
    "                            color='yellow',\n",
    "                            s= 10,\n",
    "                            zorder=4) \n",
    "\n",
    "fig # to show the updated figure\n"
   ]
  },
  {
   "cell_type": "markdown",
   "id": "10182567-95e5-4e27-b36e-b1af8b2b3669",
   "metadata": {},
   "source": []
  }
 ],
 "metadata": {
  "kernelspec": {
   "display_name": "Python 3 (ipykernel)",
   "language": "python",
   "name": "python3"
  },
  "language_info": {
   "codemirror_mode": {
    "name": "ipython",
    "version": 3
   },
   "file_extension": ".py",
   "mimetype": "text/x-python",
   "name": "python",
   "nbconvert_exporter": "python",
   "pygments_lexer": "ipython3",
   "version": "3.9.22"
  }
 },
 "nbformat": 4,
 "nbformat_minor": 5
}
