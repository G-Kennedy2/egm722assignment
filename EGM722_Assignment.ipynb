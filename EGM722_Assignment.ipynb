{
 "cells": [
  {
   "cell_type": "markdown",
   "id": "6466874b-3a59-4ba7-ac18-98ba67809f92",
   "metadata": {},
   "source": [
    "# Consultancy report analysis\n",
    "## Motorbike scrambling track\n",
    "By Gillian Kennedy (B00805416)\n",
    "\n",
    "## Aim \n",
    "Analyse the potential impact of the motorbike scrambling track in the Binevenagh area.\n",
    "\n",
    "## Objectives\n",
    "1. Analyse potential impact on local residents\n",
    "2. Analyse potential impact on environment\n",
    "3. Analyse potential impact on tourism "
   ]
  },
  {
   "cell_type": "code",
   "execution_count": null,
   "id": "dc6844dc-7257-48e5-bd25-8c251b021839",
   "metadata": {},
   "outputs": [],
   "source": []
  }
 ],
 "metadata": {
  "kernelspec": {
   "display_name": "Python 3 (ipykernel)",
   "language": "python",
   "name": "python3"
  },
  "language_info": {
   "codemirror_mode": {
    "name": "ipython",
    "version": 3
   },
   "file_extension": ".py",
   "mimetype": "text/x-python",
   "name": "python",
   "nbconvert_exporter": "python",
   "pygments_lexer": "ipython3",
   "version": "3.9.22"
  }
 },
 "nbformat": 4,
 "nbformat_minor": 5
}
